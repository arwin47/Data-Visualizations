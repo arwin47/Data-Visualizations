{
 "cells": [
  {
   "cell_type": "markdown",
   "id": "af7103e6",
   "metadata": {},
   "source": [
    "## Visualizing hourly data\n",
    "\n",
    "This notebooks explores an intuitive way to visualize 24 hour data using matplotlib. "
   ]
  },
  {
   "cell_type": "markdown",
   "id": "3890abf4",
   "metadata": {},
   "source": [
    "### Importing data"
   ]
  },
  {
   "cell_type": "code",
   "execution_count": 9,
   "id": "b3a90aa0",
   "metadata": {
    "scrolled": false
   },
   "outputs": [
    {
     "data": {
      "text/html": [
       "<div>\n",
       "<style scoped>\n",
       "    .dataframe tbody tr th:only-of-type {\n",
       "        vertical-align: middle;\n",
       "    }\n",
       "\n",
       "    .dataframe tbody tr th {\n",
       "        vertical-align: top;\n",
       "    }\n",
       "\n",
       "    .dataframe thead th {\n",
       "        text-align: right;\n",
       "    }\n",
       "</style>\n",
       "<table border=\"1\" class=\"dataframe\">\n",
       "  <thead>\n",
       "    <tr style=\"text-align: right;\">\n",
       "      <th></th>\n",
       "      <th>hour</th>\n",
       "      <th>value</th>\n",
       "    </tr>\n",
       "  </thead>\n",
       "  <tbody>\n",
       "    <tr>\n",
       "      <th>0</th>\n",
       "      <td>0</td>\n",
       "      <td>6</td>\n",
       "    </tr>\n",
       "    <tr>\n",
       "      <th>1</th>\n",
       "      <td>1</td>\n",
       "      <td>34</td>\n",
       "    </tr>\n",
       "    <tr>\n",
       "      <th>2</th>\n",
       "      <td>2</td>\n",
       "      <td>43</td>\n",
       "    </tr>\n",
       "    <tr>\n",
       "      <th>3</th>\n",
       "      <td>3</td>\n",
       "      <td>45</td>\n",
       "    </tr>\n",
       "    <tr>\n",
       "      <th>4</th>\n",
       "      <td>4</td>\n",
       "      <td>53</td>\n",
       "    </tr>\n",
       "    <tr>\n",
       "      <th>5</th>\n",
       "      <td>5</td>\n",
       "      <td>234</td>\n",
       "    </tr>\n",
       "    <tr>\n",
       "      <th>6</th>\n",
       "      <td>6</td>\n",
       "      <td>328</td>\n",
       "    </tr>\n",
       "    <tr>\n",
       "      <th>7</th>\n",
       "      <td>7</td>\n",
       "      <td>339</td>\n",
       "    </tr>\n",
       "    <tr>\n",
       "      <th>8</th>\n",
       "      <td>8</td>\n",
       "      <td>345</td>\n",
       "    </tr>\n",
       "    <tr>\n",
       "      <th>9</th>\n",
       "      <td>9</td>\n",
       "      <td>345</td>\n",
       "    </tr>\n",
       "    <tr>\n",
       "      <th>10</th>\n",
       "      <td>10</td>\n",
       "      <td>345</td>\n",
       "    </tr>\n",
       "    <tr>\n",
       "      <th>11</th>\n",
       "      <td>11</td>\n",
       "      <td>345</td>\n",
       "    </tr>\n",
       "    <tr>\n",
       "      <th>12</th>\n",
       "      <td>12</td>\n",
       "      <td>427</td>\n",
       "    </tr>\n",
       "    <tr>\n",
       "      <th>13</th>\n",
       "      <td>13</td>\n",
       "      <td>484</td>\n",
       "    </tr>\n",
       "    <tr>\n",
       "      <th>14</th>\n",
       "      <td>14</td>\n",
       "      <td>489</td>\n",
       "    </tr>\n",
       "    <tr>\n",
       "      <th>15</th>\n",
       "      <td>15</td>\n",
       "      <td>651</td>\n",
       "    </tr>\n",
       "    <tr>\n",
       "      <th>16</th>\n",
       "      <td>16</td>\n",
       "      <td>684</td>\n",
       "    </tr>\n",
       "    <tr>\n",
       "      <th>17</th>\n",
       "      <td>17</td>\n",
       "      <td>860</td>\n",
       "    </tr>\n",
       "    <tr>\n",
       "      <th>18</th>\n",
       "      <td>18</td>\n",
       "      <td>862</td>\n",
       "    </tr>\n",
       "    <tr>\n",
       "      <th>19</th>\n",
       "      <td>19</td>\n",
       "      <td>960</td>\n",
       "    </tr>\n",
       "    <tr>\n",
       "      <th>20</th>\n",
       "      <td>20</td>\n",
       "      <td>1970</td>\n",
       "    </tr>\n",
       "    <tr>\n",
       "      <th>21</th>\n",
       "      <td>21</td>\n",
       "      <td>5472</td>\n",
       "    </tr>\n",
       "    <tr>\n",
       "      <th>22</th>\n",
       "      <td>22</td>\n",
       "      <td>6247</td>\n",
       "    </tr>\n",
       "    <tr>\n",
       "      <th>23</th>\n",
       "      <td>23</td>\n",
       "      <td>6385</td>\n",
       "    </tr>\n",
       "  </tbody>\n",
       "</table>\n",
       "</div>"
      ],
      "text/plain": [
       "    hour  value\n",
       "0      0      6\n",
       "1      1     34\n",
       "2      2     43\n",
       "3      3     45\n",
       "4      4     53\n",
       "5      5    234\n",
       "6      6    328\n",
       "7      7    339\n",
       "8      8    345\n",
       "9      9    345\n",
       "10    10    345\n",
       "11    11    345\n",
       "12    12    427\n",
       "13    13    484\n",
       "14    14    489\n",
       "15    15    651\n",
       "16    16    684\n",
       "17    17    860\n",
       "18    18    862\n",
       "19    19    960\n",
       "20    20   1970\n",
       "21    21   5472\n",
       "22    22   6247\n",
       "23    23   6385"
      ]
     },
     "execution_count": 9,
     "metadata": {},
     "output_type": "execute_result"
    }
   ],
   "source": [
    "import pandas as pd\n",
    "import numpy as np\n",
    "from sklearn.preprocessing import MinMaxScaler\n",
    "data = pd.read_csv(r\"..\\hourly_data.csv\")\n",
    "data\n"
   ]
  },
  {
   "cell_type": "markdown",
   "id": "23459b06",
   "metadata": {},
   "source": [
    "### Scaling the data to limit the values (optional)\n",
    "This step is done to limit the values to a specific range to avoid spurious visualization caused by large values. This is not required when % share of hourly values is plotted (this case)"
   ]
  },
  {
   "cell_type": "code",
   "execution_count": 10,
   "id": "8d6f1522",
   "metadata": {},
   "outputs": [
    {
     "data": {
      "text/html": [
       "<div>\n",
       "<style scoped>\n",
       "    .dataframe tbody tr th:only-of-type {\n",
       "        vertical-align: middle;\n",
       "    }\n",
       "\n",
       "    .dataframe tbody tr th {\n",
       "        vertical-align: top;\n",
       "    }\n",
       "\n",
       "    .dataframe thead th {\n",
       "        text-align: right;\n",
       "    }\n",
       "</style>\n",
       "<table border=\"1\" class=\"dataframe\">\n",
       "  <thead>\n",
       "    <tr style=\"text-align: right;\">\n",
       "      <th></th>\n",
       "      <th>hour</th>\n",
       "      <th>value</th>\n",
       "      <th>scaled_value</th>\n",
       "    </tr>\n",
       "  </thead>\n",
       "  <tbody>\n",
       "    <tr>\n",
       "      <th>0</th>\n",
       "      <td>0</td>\n",
       "      <td>6</td>\n",
       "      <td>0.000000</td>\n",
       "    </tr>\n",
       "    <tr>\n",
       "      <th>1</th>\n",
       "      <td>1</td>\n",
       "      <td>34</td>\n",
       "      <td>0.004389</td>\n",
       "    </tr>\n",
       "    <tr>\n",
       "      <th>2</th>\n",
       "      <td>2</td>\n",
       "      <td>43</td>\n",
       "      <td>0.005800</td>\n",
       "    </tr>\n",
       "    <tr>\n",
       "      <th>3</th>\n",
       "      <td>3</td>\n",
       "      <td>45</td>\n",
       "      <td>0.006114</td>\n",
       "    </tr>\n",
       "    <tr>\n",
       "      <th>4</th>\n",
       "      <td>4</td>\n",
       "      <td>53</td>\n",
       "      <td>0.007368</td>\n",
       "    </tr>\n",
       "  </tbody>\n",
       "</table>\n",
       "</div>"
      ],
      "text/plain": [
       "   hour  value  scaled_value\n",
       "0     0      6      0.000000\n",
       "1     1     34      0.004389\n",
       "2     2     43      0.005800\n",
       "3     3     45      0.006114\n",
       "4     4     53      0.007368"
      ]
     },
     "execution_count": 10,
     "metadata": {},
     "output_type": "execute_result"
    }
   ],
   "source": [
    "from sklearn.preprocessing import StandardScaler\n",
    "scaler = MinMaxScaler()\n",
    "data[[\"scaled_value\"]] = scaler.fit_transform(data[[\"value\"]])\n",
    "data.head()"
   ]
  },
  {
   "cell_type": "markdown",
   "id": "52546068",
   "metadata": {},
   "source": [
    "### Creating angles for each hour label and values\n",
    "The visualization will represent the values for each hour on 24 hour clock dial. So setting the angle for each hour before doing the visualization. "
   ]
  },
  {
   "cell_type": "code",
   "execution_count": 11,
   "id": "7b5e3f83",
   "metadata": {},
   "outputs": [],
   "source": [
    "#Sorting values basis hour before creating angles\n",
    "data = data.sort_values(by = 'hour', ascending=True)\n",
    "# Creating predefined angle for each hour of 24 hour set\n",
    "# This can also be achieved with linspace, but not using to reduce the number of logics used to improve performance \n",
    "# for the cases when the visualization is used in any dashboard requiring frequent rendering.\n",
    "data['theta'] = pd.Series([90,75,60,45,30,15,0,-15,-30,-45,-60,-75,-90,-105,240,225,210,195,180,165,150,135,120,105])"
   ]
  },
  {
   "cell_type": "markdown",
   "id": "7993eb4d",
   "metadata": {},
   "source": [
    "### Creating % share of values"
   ]
  },
  {
   "cell_type": "code",
   "execution_count": 21,
   "id": "94a3d7ca",
   "metadata": {},
   "outputs": [],
   "source": [
    "data['share'] = data['value'].apply( lambda x: x/sum(data['value']))"
   ]
  },
  {
   "cell_type": "markdown",
   "id": "96e54b66",
   "metadata": {},
   "source": [
    "### Creating the dial and colours to be user on the dial"
   ]
  },
  {
   "cell_type": "code",
   "execution_count": 14,
   "id": "96bccf87",
   "metadata": {},
   "outputs": [],
   "source": [
    "import matplotlib\n",
    "import matplotlib.pyplot as plt\n",
    "from matplotlib.collections import PatchCollection\n",
    "from matplotlib.patches import Circle, Rectangle\n",
    "# Initial Conditions  - setting the radius of the clock dial\n",
    "r1 = 7\n",
    "r2 = 5\n",
    "N = 24  # for creating a set of 24 colours on dial to indicate 24 hours\n",
    "mid = (r1+r2)/2\n",
    "height = r2 - r1\n",
    "width = np.deg2rad(15)\n",
    "radii = 10 * np.random.rand(N)\n",
    "\n",
    "# Creating arrays of Ordered Colors to use in the dial\n",
    "colors = plt.cm.viridis(data['hour'].iloc[::-1] / 25)\n",
    "colors2 = plt.cm.viridis(data['hour'].iloc[::-1] / 8)\n",
    "# colors3 = plt.cm.Blues(data['hour'].iloc[::-1] * 10)\n",
    "colors3 = plt.cm.Blues(data['hour'] * 10)\n",
    "\n",
    "# #Random Colors (If randow colour intensities are needed regardless the hour value)\n",
    "# colors = plt.cm.viridis(radii * 10.)\n",
    "# colors2 = plt.cm.viridis(radii * 12.)\n",
    "# colors3 = plt.cm.Blues(radii * 12.5)\n"
   ]
  },
  {
   "cell_type": "markdown",
   "id": "e9e5d814",
   "metadata": {},
   "source": [
    "### Creating the dial"
   ]
  },
  {
   "cell_type": "code",
   "execution_count": 15,
   "id": "a75093c0",
   "metadata": {},
   "outputs": [
    {
     "data": {
      "image/png": "[encoded data removed]",
      "text/plain": [
       "<Figure size 432x288 with 1 Axes>"
      ]
     },
     "metadata": {
      "needs_background": "light"
     },
     "output_type": "display_data"
    }
   ],
   "source": [
    "\n",
    "#Creation of plot\n",
    "ax = plt.subplot(projection='polar')\n",
    "\n",
    "#Clock creation\n",
    "ax.bar(np.deg2rad(data['theta']), height, width=width, bottom=r1, color=colors, alpha=0.5)  # clock hours back\n",
    "ax.bar(0, r1-2, width=np.deg2rad(360), bottom=0.0, color='#9370DB', alpha=0.7)   # Mid dial\n",
    "ax.axis(\"off\")\n",
    "plt.show()"
   ]
  },
  {
   "cell_type": "markdown",
   "id": "9731c8cb",
   "metadata": {},
   "source": [
    "### Plotting background for clock hours and values"
   ]
  },
  {
   "cell_type": "code",
   "execution_count": 18,
   "id": "0a181b3b",
   "metadata": {},
   "outputs": [
    {
     "data": {
      "image/png": "[encoded data removed]",
      "text/plain": [
       "<Figure size 432x288 with 1 Axes>"
      ]
     },
     "metadata": {
      "needs_background": "light"
     },
     "output_type": "display_data"
    }
   ],
   "source": [
    "#Creation of plot\n",
    "ax = plt.subplot(projection='polar')\n",
    "\n",
    "#Clock creation\n",
    "ax.bar(np.deg2rad(data['theta']), height, width=width, bottom=r1, color=colors, alpha=0.5)  # clock hours back\n",
    "ax.bar(0, r1-2, width=np.deg2rad(360), bottom=0.0, color='#9370DB', alpha=0.7)   # Mid dial\n",
    "\n",
    "# Adding hour labels and values for each hour\n",
    "ax.bar(np.deg2rad(data['theta']), (data[\"scaled_value\"]*3), width=width, bottom=9, color=colors2, alpha=0.5)  # clock values\n",
    "ax.bar(np.deg2rad(data['theta']), height, width=width, bottom=9, color=colors3, alpha=0.5)  # clock percentages back\n",
    "ax.axis(\"off\")\n",
    "plt.show()"
   ]
  },
  {
   "cell_type": "markdown",
   "id": "b33107d8",
   "metadata": {},
   "source": [
    "### Adding an indicator for location of maximum value"
   ]
  },
  {
   "cell_type": "code",
   "execution_count": 19,
   "id": "f06a44aa",
   "metadata": {},
   "outputs": [
    {
     "data": {
      "image/png": "[encoded data removed]",
      "text/plain": [
       "<Figure size 432x288 with 1 Axes>"
      ]
     },
     "metadata": {
      "needs_background": "light"
     },
     "output_type": "display_data"
    }
   ],
   "source": [
    "#Creation of plot\n",
    "ax = plt.subplot(projection='polar')\n",
    "\n",
    "#Clock creation\n",
    "ax.bar(np.deg2rad(data['theta']), height, width=width, bottom=r1, color=colors, alpha=0.5)  # clock hours back\n",
    "ax.bar(0, r1-2, width=np.deg2rad(360), bottom=0.0, color='#9370DB', alpha=0.7)   # Mid dial\n",
    "\n",
    "# Adding hour labels and values for each hour\n",
    "ax.bar(np.deg2rad(data['theta']), (data[\"scaled_value\"]*3), width=width, bottom=9, color=colors2, alpha=0.5)  # clock values\n",
    "ax.bar(np.deg2rad(data['theta']), height, width=width, bottom=9, color=colors3, alpha=0.5)  # clock percentages back\n",
    "ax.bar(np.deg2rad(data['theta'][(data['scaled_value'] == max(data['scaled_value']))]), height, width=width, bottom=4, color='#4169E1', alpha=0.5)  # clock percentages max\n",
    "\n",
    "\n",
    "ax.axis(\"off\")\n",
    "plt.show()"
   ]
  },
  {
   "cell_type": "markdown",
   "id": "a0b4969c",
   "metadata": {},
   "source": [
    "### Adding numerical values on the dial"
   ]
  },
  {
   "cell_type": "code",
   "execution_count": 31,
   "id": "c9964c23",
   "metadata": {},
   "outputs": [
    {
     "data": {
      "image/png": "[encoded data removed]",
      "text/plain": [
       "<Figure size 432x288 with 1 Axes>"
      ]
     },
     "metadata": {
      "needs_background": "light"
     },
     "output_type": "display_data"
    }
   ],
   "source": [
    "#Creation of plot\n",
    "ax = plt.subplot(projection='polar')\n",
    "\n",
    "#Clock creation\n",
    "ax.bar(np.deg2rad(data['theta']), height, width=width, bottom=r1, color=colors, alpha=0.5)  # clock hours back\n",
    "ax.bar(0, r1-2, width=np.deg2rad(360), bottom=0.0, color='#9370DB', alpha=0.7)   # Mid dial\n",
    "\n",
    "# Adding hour labels and values for each hour\n",
    "ax.bar(np.deg2rad(data['theta']), (data[\"scaled_value\"]*3), width=width, bottom=9, color=colors2, alpha=0.5)  # clock values\n",
    "ax.bar(np.deg2rad(data['theta']), height, width=width, bottom=9, color=colors3, alpha=0.5)  # clock percentages back\n",
    "ax.bar(np.deg2rad(data['theta'][(data['scaled_value'] == max(data['scaled_value']))]), height, width=width, bottom=4, color='#4169E1', alpha=0.5)  # clock percentages max\n",
    "\n",
    "\n",
    "\n",
    "\n",
    "#Numerical values\n",
    "#Clock hours\n",
    "for hour in range(0,24):\n",
    "    plt.annotate(hour,xy=(np.deg2rad(data['theta'][hour]), mid),   ha=\"center\", va=\"center\", fontsize = 10) # Clock locations\n",
    "    plt.annotate(\"{:.0%}\".format(data['share'][hour]),xy=(np.deg2rad(data['theta'][hour]), mid+2),   ha=\"center\", va=\"center\", color='#505050', fontsize = 10) # Clock percentages\n",
    "    \n",
    "\n",
    "ax.axis(\"off\")\n",
    "plt.show()"
   ]
  }
 ],
 "metadata": {
  "kernelspec": {
   "display_name": "Python 3",
   "language": "python",
   "name": "python3"
  },
  "language_info": {
   "codemirror_mode": {
    "name": "ipython",
    "version": 3
   },
   "file_extension": ".py",
   "mimetype": "text/x-python",
   "name": "python",
   "nbconvert_exporter": "python",
   "pygments_lexer": "ipython3",
   "version": "3.9.5"
  }
 },
 "nbformat": 4,
 "nbformat_minor": 5
}
